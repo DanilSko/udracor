{
 "cells": [
  {
   "cell_type": "markdown",
   "id": "264e9ce6",
   "metadata": {},
   "source": [
    "## imports"
   ]
  },
  {
   "cell_type": "code",
   "execution_count": 33,
   "id": "90b424b2",
   "metadata": {},
   "outputs": [],
   "source": [
    "import sys\n",
    "import re\n",
    "#from transliterate import translit\n",
    "from bs4 import BeautifulSoup, Tag\n",
    "from datetime import datetime"
   ]
  },
  {
   "cell_type": "code",
   "execution_count": 34,
   "id": "75a61808",
   "metadata": {},
   "outputs": [],
   "source": [
    "import os"
   ]
  },
  {
   "cell_type": "markdown",
   "id": "059a4b48",
   "metadata": {},
   "source": [
    "## functions"
   ]
  },
  {
   "cell_type": "code",
   "execution_count": 35,
   "id": "8adcdd27",
   "metadata": {},
   "outputs": [],
   "source": [
    "def parse_file(fpath):\n",
    "    path_to_file = fpath\n",
    "    with open(path_to_file) as openfile:\n",
    "        file_lines = openfile.readlines()\n",
    "    soup = parse_lines(file_lines) \n",
    "    augmented_soup = post_process(soup)\n",
    "    tree_to_write = str(soup).replace('\\n', '')\n",
    "    tree_to_write = add_spaces_inline_stages(tree_to_write) #\n",
    "    with open(re.sub(r'\\..+', r'.xml',fpath), 'w') as outfile:\n",
    "        outfile.write(tree_to_write)"
   ]
  },
  {
   "cell_type": "code",
   "execution_count": 36,
   "id": "abbfa0ca",
   "metadata": {},
   "outputs": [],
   "source": [
    "def add_spaces_inline_stages(tree_as_string):\n",
    "    tree_as_string = re.sub(r'</stage>([^\\s])', r'</stage> \\1', tree_as_string)\n",
    "    tree_as_string = re.sub(r'([^\\s])<stage>', r'\\1 <stage>', tree_as_string)\n",
    "    return tree_as_string"
   ]
  },
  {
   "cell_type": "code",
   "execution_count": 37,
   "id": "a10e93b2",
   "metadata": {},
   "outputs": [],
   "source": [
    "def add_pbstmt(filedesc):\n",
    "    pubstmt_as_string = \"\"\"\n",
    "      <publicationStmt>\n",
    "        <publisher xml:id=\"dracor\">DraCor</publisher>\n",
    "        <idno type=\"URL\">https://dracor.org</idno>\n",
    "        <availability>\n",
    "          <licence>\n",
    "            <ab>CC0 1.0</ab>\n",
    "            <ref target=\"https://creativecommons.org/publicdomain/zero/1.0/\">Licence</ref>\n",
    "          </licence>\n",
    "        </availability>\n",
    "      </publicationStmt>\n",
    "    \"\"\"\n",
    "    pbsoup = BeautifulSoup(pubstmt_as_string, 'xml')\n",
    "    pbstmt = pbsoup.publicationStmt\n",
    "    filedesc.append(pbstmt)"
   ]
  },
  {
   "cell_type": "code",
   "execution_count": 38,
   "id": "3dfac95e",
   "metadata": {},
   "outputs": [],
   "source": [
    "def add_sourcedesc(filedesc):\n",
    "    sourcedesc_as_string = \"\"\"\n",
    "      <sourceDesc>\n",
    "        <bibl type=\"digitalSource\">\n",
    "          <name>ENTER SOURCE NAME HERE</name>\n",
    "          <idno type=\"URL\">ENTER SOURCE URL HERE</idno>\n",
    "          <availability status=\"free\">\n",
    "            <p>In the public domain.</p>\n",
    "          </availability>\n",
    "        </bibl>\n",
    "      </sourceDesc>\n",
    "    \"\"\"\n",
    "    sdsoup = BeautifulSoup(sourcedesc_as_string, 'xml')\n",
    "    sd = sdsoup.sourceDesc\n",
    "    filedesc.append(sd)"
   ]
  },
  {
   "cell_type": "code",
   "execution_count": 39,
   "id": "6e96490c",
   "metadata": {},
   "outputs": [],
   "source": [
    "def create_header():\n",
    "    header = Tag(name='teiHeader')\n",
    "    fdesc = Tag(name='fileDesc')\n",
    "    titlestmt = Tag(name='titleStmt')\n",
    "    fdesc.append(titlestmt)\n",
    "    add_pbstmt(fdesc)\n",
    "    add_sourcedesc(fdesc)\n",
    "    header.append(fdesc)\n",
    "    return(header)"
   ]
  },
  {
   "cell_type": "code",
   "execution_count": 40,
   "id": "6469cbef",
   "metadata": {},
   "outputs": [],
   "source": [
    "def get_div_level(line):\n",
    "    div_level = 1 # since we already located one # and since 0 is <body> level in this model\n",
    "    for char in line:\n",
    "        if char == '#':\n",
    "            div_level+=1\n",
    "        else:\n",
    "            break\n",
    "    return(div_level)"
   ]
  },
  {
   "cell_type": "code",
   "execution_count": 41,
   "id": "8574f445",
   "metadata": {},
   "outputs": [],
   "source": [
    "def handle_line_with_markup(first_character, rest_of_line, current_lowest_tag, current_lowest_div, front):\n",
    "    ''' handles linke with specific ezdrama markup symbol at the start\n",
    "    returns new current_lowest_tag which is to be appended further'''\n",
    "    if first_character == '$':\n",
    "        new_stage = Tag(name='stage')\n",
    "        new_stage.append(rest_of_line)\n",
    "        current_lowest_div.append(new_stage)\n",
    "        current_lowest_tag = new_stage # при отключениии stage перестает быть мультистрочным и поедать все немаркированные строки после себя\n",
    "    elif first_character == '@':\n",
    "        new_sp = Tag(name='sp')\n",
    "        new_sp.append(rest_of_line)\n",
    "        current_lowest_div.append(new_sp)\n",
    "        current_lowest_tag = new_sp\n",
    "    elif first_character == '^':\n",
    "        new_cl = Tag(name='castList')\n",
    "        new_cl.append(rest_of_line)\n",
    "        front.append(new_cl)\n",
    "        current_lowest_tag = new_cl\n",
    "        \n",
    "    elif first_character == '&':\n",
    "        new_setting = Tag(name='set')\n",
    "        new_setting.append(rest_of_line)\n",
    "        front.append(new_setting)\n",
    "        \n",
    "    elif first_character == '#':\n",
    "        new_div = Tag(name='div')\n",
    "        head = Tag(name='head')\n",
    "        head.append(rest_of_line.strip('#'))\n",
    "        new_div['level'] = get_div_level(rest_of_line)\n",
    "        new_div.append(head)\n",
    "        if new_div['level'] > current_lowest_div['level']:\n",
    "            current_lowest_div.append(new_div)\n",
    "        elif new_div['level'] == current_lowest_div['level']:\n",
    "            current_lowest_div.parent.append(new_div)\n",
    "        else:\n",
    "            current_lowest_div.parent.parent.append(new_div)\n",
    "        current_lowest_div = new_div\n",
    "        current_lowest_tag = new_div\n",
    "    return(current_lowest_tag, current_lowest_div)"
   ]
  },
  {
   "cell_type": "code",
   "execution_count": 42,
   "id": "f9714d77",
   "metadata": {},
   "outputs": [],
   "source": [
    "def add_author_to_header(header, line):\n",
    "    fdesc = header.find('titleStmt')\n",
    "    author = Tag(name='author')\n",
    "    author.append(line[7:])\n",
    "    fdesc.append(author)"
   ]
  },
  {
   "cell_type": "code",
   "execution_count": 43,
   "id": "b5a7e23a",
   "metadata": {},
   "outputs": [],
   "source": [
    "def add_title_to_header(header, line):\n",
    "    titlest = header.find('titleStmt')\n",
    "    title = Tag(name='title')\n",
    "    title['type'] = 'main'\n",
    "    title.append(line[7:])\n",
    "    titlest.append(title)"
   ]
  },
  {
   "cell_type": "code",
   "execution_count": 44,
   "id": "93ccc439",
   "metadata": {},
   "outputs": [],
   "source": [
    "def add_subtitle_to_header(header, line):\n",
    "    titlest = header.find('titleStmt')\n",
    "    title = Tag(name='title')\n",
    "    title['type'] = 'sub'\n",
    "    title.append(line[10:])\n",
    "    titlest.append(title)"
   ]
  },
  {
   "cell_type": "code",
   "execution_count": 45,
   "id": "e7bbdcf8",
   "metadata": {},
   "outputs": [],
   "source": [
    "def add_standoff(tei):\n",
    "    today = datetime.today().strftime('%Y-%m-%d')\n",
    "    standoff_as_string = f'''\n",
    "    <standOff>\n",
    "        <listEvent>\n",
    "        <event type=\"print\" when=\"{today}\">\n",
    "        <desc/>\n",
    "        </event>\n",
    "        <event type=\"premiere\" when=\"{today}\">\n",
    "        <desc/>\n",
    "        </event>\n",
    "        <event type=\"written\" when=\"{today}\">\n",
    "        <label>INSERT</label>\n",
    "        </event>\n",
    "        </listEvent>\n",
    "        <listRelation>\n",
    "        <relation name=\"wikidata\" active=\"INSERT\" passive=\"INSERT\"/>\n",
    "        </listRelation>\n",
    "    </standOff>\n",
    "    '''\n",
    "    standoffsoup = BeautifulSoup(standoff_as_string, 'xml')\n",
    "    standoff = standoffsoup.standOff\n",
    "    tei.append(standoff)"
   ]
  },
  {
   "cell_type": "code",
   "execution_count": 46,
   "id": "f1d04c3e",
   "metadata": {},
   "outputs": [],
   "source": [
    "def parse_lines(file_lines):\n",
    "    '''This function parses lines of a file \n",
    "    in ezdrama format and \n",
    "    produces an output XML tree\n",
    "    at this stage we only identify: \n",
    "    -- basic <div> structure\n",
    "    -- external (not-inside-the-sp) <stage> directions \n",
    "    -- <sp>-s without internal markup\n",
    "    '''\n",
    "    special_symb_list = '@$^#&'\n",
    "    root = Tag(name='TEI')\n",
    "    header = create_header()\n",
    "    root.append(header)\n",
    "    add_standoff(root)\n",
    "    text = Tag(name='text')\n",
    "    front = Tag(name='front')\n",
    "    body = Tag(name='body')\n",
    "    text.append(front)\n",
    "    text.append(body)\n",
    "    root.append(text)\n",
    "    \n",
    "    current_lowest_tag = body\n",
    "    current_lowest_div = body\n",
    "    current_lowest_div['level'] = 0\n",
    "    \n",
    "    for line in file_lines:\n",
    "        if line.startswith('@author'):\n",
    "            add_author_to_header(header, line.strip())\n",
    "        elif line.startswith('@title'):\n",
    "            add_title_to_header(header, line.strip())\n",
    "        elif line.startswith('@subtitle'):\n",
    "            add_subtitle_to_header(header, line.strip())\n",
    "        else:\n",
    "            first_character = line[:1] # отрезаем первый спецсимвол, берем его\n",
    "            rest_of_line = line[1:] # отрезаем первый спецсимвол, берем остаток\n",
    "            if first_character in special_symb_list:\n",
    "                current_lowest_tag, current_lowest_div = handle_line_with_markup(first_character, \n",
    "                                                                                 rest_of_line, \n",
    "                                                                                 current_lowest_tag,\n",
    "                                                                                 current_lowest_div, \n",
    "                                                                                 front)\n",
    "            else:\n",
    "                current_lowest_tag.append(line)\n",
    "    return(root)\n",
    "\n"
   ]
  },
  {
   "cell_type": "code",
   "execution_count": 47,
   "id": "8133b238",
   "metadata": {},
   "outputs": [],
   "source": [
    "def check_prose(first_line_of_speech):\n",
    "    #print(first_line_of_speech)\n",
    "    if first_line_of_speech.startswith('~'):\n",
    "        return False\n",
    "    return True"
   ]
  },
  {
   "cell_type": "code",
   "execution_count": 48,
   "id": "85b17a03",
   "metadata": {},
   "outputs": [],
   "source": [
    "def clean_after_translit(line):\n",
    "    line = line.replace('і', 'i')\n",
    "    line = line.replace('ї', 'i')\n",
    "    line = line.replace('і', 'i')\n",
    "    line = line.replace('є', 'e')\n",
    "    line = line.replace(\"'\", \"\")\n",
    "    line = line.replace(\"’\", \"\")\n",
    "    line = line.replace(\"«\", \"\")\n",
    "    line = line.replace(\"»\", \"\")\n",
    "    line = line.replace(\"′\", \"\")\n",
    "    line = line.replace(\" \", \"_\")\n",
    "    return line"
   ]
  },
  {
   "cell_type": "code",
   "execution_count": 49,
   "id": "5defe38e",
   "metadata": {},
   "outputs": [],
   "source": [
    "def add_cast_items(soup):\n",
    "    castList = soup.find('castList')\n",
    "    casttext = castList.text\n",
    "    castList.clear()\n",
    "    cast_lines = casttext.split('\\n')\n",
    "    # first line is head\n",
    "    castHead = Tag(name='head')\n",
    "    castHead.append(cast_lines[0])\n",
    "    castList.append(castHead)\n",
    "    # next lines -- castItems\n",
    "    for line in cast_lines[1:]:\n",
    "        castItem = Tag(name='castItem')\n",
    "        castItem.append(line)\n",
    "        castList.append(castItem)"
   ]
  },
  {
   "cell_type": "code",
   "execution_count": 63,
   "id": "5bc46015",
   "metadata": {},
   "outputs": [],
   "source": [
    "def post_process_sp(sp):\n",
    "    text_of_sp = sp.text \n",
    "    sp.clear()\n",
    "    \n",
    "    text_split_in_lines = text_of_sp.split('\\n')\n",
    "    first_line = text_split_in_lines[0]\n",
    "    speaker = Tag(name='speaker')\n",
    "    sp.append(speaker)\n",
    "    check_stage = re.search('([^%]+)(%%.+?%%[.,:!;]?)', first_line)\n",
    "    if check_stage:\n",
    "        speaker.append(check_stage.group(1))\n",
    "        inside_stage = Tag(name='stage')\n",
    "        inside_stage.append(check_stage.group(2).strip(' \\n%'))\n",
    "        sp.append(inside_stage)\n",
    "    else:\n",
    "        speaker.append(first_line.strip())\n",
    "    \n",
    "    long_stage = False\n",
    "    \n",
    "    for line in text_split_in_lines[1:]:\n",
    "        if line.startswith('%'):\n",
    "            speechtext = Tag(name='stage')\n",
    "            speechtext.append(line.strip('%'))\n",
    "            if line.startswith('%%'):\n",
    "                long_stage = True\n",
    "            else:\n",
    "                sp.append(speechtext)\n",
    "        elif long_stage:\n",
    "            speechtext.append(f' {line.strip(\"%\")}')\n",
    "            if line.strip().endswith('%%'):\n",
    "                long_stage = False\n",
    "                sp.append(speechtext)\n",
    "        else:\n",
    "            if play_mode == 'verse':\n",
    "                speechtext = Tag(name='l')\n",
    "            else:\n",
    "                speechtext = Tag(name='p')\n",
    "            inline_stages = re.findall('(.*)(%%.+?%%[.,:!;]?)(.*)', line)\n",
    "            if inline_stages:\n",
    "                for triplet in inline_stages: \n",
    "                    if len(triplet[0]) > 0:\n",
    "                        speechtext.append(triplet[0])\n",
    "                    inside_stage = Tag(name='stage')\n",
    "                    inside_stage.append(triplet[1].strip(' \\n%'))\n",
    "                    speechtext.append(inside_stage)\n",
    "                    if len(triplet[2]) > 0:\n",
    "                        speechtext.append(triplet[0])       \n",
    "            else:\n",
    "                speechtext.append(line)\n",
    "            sp.append(speechtext)\n",
    "    \n",
    "    if re.search('[йцукенгшщзхъфывапролджэячсмитью]', speaker.text.lower()):\n",
    "        clean_who = clean_after_translit(translit(speaker.text.strip('.: '), UkrainianISO9)).lower()\n",
    "    else:\n",
    "        clean_who = speaker.text.strip('.: ').lower()\n",
    "    sp['who'] = f'#{clean_who}'"
   ]
  },
  {
   "cell_type": "code",
   "execution_count": 64,
   "id": "17c30b7a",
   "metadata": {},
   "outputs": [],
   "source": [
    "def add_rev_desc(header):\n",
    "    revdesc_as_string = f\"\"\"\n",
    "    <revisionDesc>\n",
    "         <listChange>\n",
    "        <change when=\"{datetime.today().strftime('%Y-%m-%d')}\">DESCRIBE CHANGE</change>\n",
    "        </listChange>\n",
    "    </revisionDesc>\"\"\"\n",
    "    rdsoup = BeautifulSoup(revdesc_as_string, 'xml')\n",
    "    rd = rdsoup.revisionDesc\n",
    "    header.append(rd)"
   ]
  },
  {
   "cell_type": "code",
   "execution_count": 65,
   "id": "e9611da9",
   "metadata": {},
   "outputs": [],
   "source": [
    "def post_process(soup):\n",
    "    set_of_char_pairs = set() # множество пар ID + строка \n",
    "    add_cast_items(soup)\n",
    "    del(soup.find('body')['level'])\n",
    "    for sp in soup.find_all('sp'):\n",
    "        post_process_sp(sp)\n",
    "        if 'who' in sp.attrs:\n",
    "            #print[sp\n",
    "            #try:\n",
    "            set_of_char_pairs.add((sp['who'], sp.speaker.text.strip('. '))) #\n",
    "            #except:\n",
    "            #    pass\n",
    "    for div in soup.find_all('div'):\n",
    "        if div['level'] == 0:\n",
    "            div.attrs = {}\n",
    "        elif div['level'] == 1:\n",
    "            div.attrs = {}\n",
    "            div['type'] = 'act'\n",
    "        elif div['level'] == 2:\n",
    "            div.attrs = {}\n",
    "            div['type'] = 'scene'\n",
    "    add_particdesc_to_header(soup, set_of_char_pairs)\n",
    "    add_rev_desc(soup.teiHeader)\n",
    "    \n",
    "    soup['xmlns'] = \"http://www.tei-c.org/ns/1.0\"\n",
    "    return(soup)"
   ]
  },
  {
   "cell_type": "code",
   "execution_count": 66,
   "id": "f8213fda",
   "metadata": {},
   "outputs": [],
   "source": [
    "def add_particdesc_to_header(soup, set_of_char_pairs):\n",
    "    #print(set_of_char_pairs)\n",
    "    profileDesc = Tag(name = 'profileDesc')\n",
    "    particDesc = Tag(name = 'particDesc')\n",
    "    profileDesc.append(particDesc)\n",
    "    listPerson = Tag(name = 'listPerson')\n",
    "    particDesc.append(listPerson)\n",
    "    for pair in set_of_char_pairs:\n",
    "        person = Tag(name = 'person')\n",
    "        person['xml:id'] = pair[0].strip('#')\n",
    "        persName = Tag(name = 'persName')\n",
    "        person.append(persName)\n",
    "        #print(pair[1])\n",
    "        persName.append(pair[1])\n",
    "        listPerson.append(person)\n",
    "    teiHeader = soup.find('teiHeader')\n",
    "    teiHeader.append(profileDesc)"
   ]
  },
  {
   "cell_type": "markdown",
   "id": "68dee426",
   "metadata": {},
   "source": [
    "## Use"
   ]
  },
  {
   "cell_type": "code",
   "execution_count": 67,
   "id": "59697cdc",
   "metadata": {},
   "outputs": [],
   "source": [
    "#path = 'Marko_Kropivnitskij_Daj_sertsju_volju_zavede_u_nevolju.txt'\n",
    "#parse_file(path)"
   ]
  },
  {
   "cell_type": "code",
   "execution_count": 68,
   "id": "59c549d0",
   "metadata": {},
   "outputs": [],
   "source": [
    "#path = 'shevchenko-nazar-stodolja.md'\n",
    "#parse_file(path)"
   ]
  },
  {
   "cell_type": "code",
   "execution_count": 69,
   "id": "5e4f9aab",
   "metadata": {},
   "outputs": [],
   "source": [
    "#path = 'kvіtka-osnovjanenko-svatannja-na-goncharіvcі.md'\n",
    "#parse_file(path)"
   ]
  },
  {
   "cell_type": "code",
   "execution_count": 70,
   "id": "485949c8",
   "metadata": {},
   "outputs": [],
   "source": [
    "#path = 'gogol-janovskij-prostak-abo-hitrist-zhinki-perehitrena-moskalem.md'\n",
    "#parse_file(path)"
   ]
  },
  {
   "cell_type": "code",
   "execution_count": 71,
   "id": "3067a3b6",
   "metadata": {},
   "outputs": [],
   "source": [
    "#path = 'ezdrama_simple_demo.md'\n",
    "#parse_file(path)"
   ]
  },
  {
   "cell_type": "code",
   "execution_count": 72,
   "id": "fbe62c96",
   "metadata": {},
   "outputs": [],
   "source": [
    "# ESP02-vega-duquesa-de-rosa"
   ]
  },
  {
   "cell_type": "code",
   "execution_count": 73,
   "id": "a8b51c7a",
   "metadata": {},
   "outputs": [],
   "source": [
    "# path to a file in UTF-8\n",
    "path = 'sample.txt'\n",
    "play_mode = 'verse' #verse\n",
    "parse_file(path)"
   ]
  },
  {
   "cell_type": "code",
   "execution_count": 74,
   "id": "004f8c54",
   "metadata": {},
   "outputs": [],
   "source": [
    "newfile = path.replace('.txt', '.xml')"
   ]
  },
  {
   "cell_type": "code",
   "execution_count": 75,
   "id": "7a9d4e08",
   "metadata": {},
   "outputs": [
    {
     "name": "stderr",
     "output_type": "stream",
     "text": [
      "/usr/local/bin/xmlformat:1459: warning: assigned but unused variable - in_file\n",
      "/usr/local/bin/xmlformat:100: warning: nested repeat operator '+' and '?' was replaced with '*' in regular expression\n",
      "/usr/local/bin/xmlformat:100: warning: nested repeat operator '+' and '?' was replaced with '*' in regular expression\n",
      "/usr/local/bin/xmlformat:100: warning: nested repeat operator '+' and '?' was replaced with '*' in regular expression\n",
      "/usr/local/bin/xmlformat:100: warning: nested repeat operator '+' and '?' was replaced with '*' in regular expression\n",
      "/usr/local/bin/xmlformat:100: warning: nested repeat operator '+' and '?' was replaced with '*' in regular expression\n",
      "/usr/local/bin/xmlformat:100: warning: nested repeat operator '+' and '?' was replaced with '*' in regular expression\n"
     ]
    },
    {
     "data": {
      "text/plain": [
       "0"
      ]
     },
     "execution_count": 75,
     "metadata": {},
     "output_type": "execute_result"
    }
   ],
   "source": [
    "os.system(f'xmlformat --config-file=format.conf \\\"{newfile}\\\" > \\\"{newfile.replace(\".xml\",\"\")}_indented.xml\\\" ')"
   ]
  },
  {
   "cell_type": "code",
   "execution_count": null,
   "id": "a96f2514",
   "metadata": {},
   "outputs": [],
   "source": []
  },
  {
   "cell_type": "code",
   "execution_count": null,
   "id": "7a968b02",
   "metadata": {},
   "outputs": [],
   "source": []
  },
  {
   "cell_type": "code",
   "execution_count": null,
   "id": "9cbe78ea",
   "metadata": {},
   "outputs": [],
   "source": []
  }
 ],
 "metadata": {
  "kernelspec": {
   "display_name": "Python 3 (ipykernel)",
   "language": "python",
   "name": "python3"
  },
  "language_info": {
   "codemirror_mode": {
    "name": "ipython",
    "version": 3
   },
   "file_extension": ".py",
   "mimetype": "text/x-python",
   "name": "python",
   "nbconvert_exporter": "python",
   "pygments_lexer": "ipython3",
   "version": "3.9.13"
  }
 },
 "nbformat": 4,
 "nbformat_minor": 5
}
