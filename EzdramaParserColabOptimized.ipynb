{
  "cells": [
    {
      "cell_type": "markdown",
      "metadata": {
        "id": "view-in-github",
        "colab_type": "text"
      },
      "source": [
        "<a href=\"https://colab.research.google.com/github/DanilSko/udracor/blob/ezdramaformat/EzdramaParserColabOptimized.ipynb\" target=\"_parent\"><img src=\"https://colab.research.google.com/assets/colab-badge.svg\" alt=\"Open In Colab\"/></a>"
      ]
    },
    {
      "cell_type": "markdown",
      "source": [
        "# How to use this notebook"
      ],
      "metadata": {
        "id": "I6iNMnzXKAvi"
      },
      "id": "I6iNMnzXKAvi"
    },
    {
      "cell_type": "markdown",
      "source": [
        "1. First run this cell below and upload your exdrama file in txt format (if you're unsure, check the example [here](https://raw.githubusercontent.com/dracor-org/ezdrama/main/sample.txt))"
      ],
      "metadata": {
        "id": "k66lfLbKM9gb"
      },
      "id": "k66lfLbKM9gb"
    },
    {
      "cell_type": "code",
      "source": [
        "from google.colab import files\n",
        "uploaded = files.upload()"
      ],
      "metadata": {
        "colab": {
          "base_uri": "https://localhost:8080/",
          "height": 73
        },
        "id": "I65w2Kl8KZjg",
        "outputId": "e2f853d4-ca8b-4f46-839a-d2eb17f78940"
      },
      "id": "I65w2Kl8KZjg",
      "execution_count": 1,
      "outputs": [
        {
          "output_type": "display_data",
          "data": {
            "text/plain": [
              "<IPython.core.display.HTML object>"
            ],
            "text/html": [
              "\n",
              "     <input type=\"file\" id=\"files-814b15ee-e889-4f77-807b-9799e4946025\" name=\"files[]\" multiple disabled\n",
              "        style=\"border:none\" />\n",
              "     <output id=\"result-814b15ee-e889-4f77-807b-9799e4946025\">\n",
              "      Upload widget is only available when the cell has been executed in the\n",
              "      current browser session. Please rerun this cell to enable.\n",
              "      </output>\n",
              "      <script>// Copyright 2017 Google LLC\n",
              "//\n",
              "// Licensed under the Apache License, Version 2.0 (the \"License\");\n",
              "// you may not use this file except in compliance with the License.\n",
              "// You may obtain a copy of the License at\n",
              "//\n",
              "//      http://www.apache.org/licenses/LICENSE-2.0\n",
              "//\n",
              "// Unless required by applicable law or agreed to in writing, software\n",
              "// distributed under the License is distributed on an \"AS IS\" BASIS,\n",
              "// WITHOUT WARRANTIES OR CONDITIONS OF ANY KIND, either express or implied.\n",
              "// See the License for the specific language governing permissions and\n",
              "// limitations under the License.\n",
              "\n",
              "/**\n",
              " * @fileoverview Helpers for google.colab Python module.\n",
              " */\n",
              "(function(scope) {\n",
              "function span(text, styleAttributes = {}) {\n",
              "  const element = document.createElement('span');\n",
              "  element.textContent = text;\n",
              "  for (const key of Object.keys(styleAttributes)) {\n",
              "    element.style[key] = styleAttributes[key];\n",
              "  }\n",
              "  return element;\n",
              "}\n",
              "\n",
              "// Max number of bytes which will be uploaded at a time.\n",
              "const MAX_PAYLOAD_SIZE = 100 * 1024;\n",
              "\n",
              "function _uploadFiles(inputId, outputId) {\n",
              "  const steps = uploadFilesStep(inputId, outputId);\n",
              "  const outputElement = document.getElementById(outputId);\n",
              "  // Cache steps on the outputElement to make it available for the next call\n",
              "  // to uploadFilesContinue from Python.\n",
              "  outputElement.steps = steps;\n",
              "\n",
              "  return _uploadFilesContinue(outputId);\n",
              "}\n",
              "\n",
              "// This is roughly an async generator (not supported in the browser yet),\n",
              "// where there are multiple asynchronous steps and the Python side is going\n",
              "// to poll for completion of each step.\n",
              "// This uses a Promise to block the python side on completion of each step,\n",
              "// then passes the result of the previous step as the input to the next step.\n",
              "function _uploadFilesContinue(outputId) {\n",
              "  const outputElement = document.getElementById(outputId);\n",
              "  const steps = outputElement.steps;\n",
              "\n",
              "  const next = steps.next(outputElement.lastPromiseValue);\n",
              "  return Promise.resolve(next.value.promise).then((value) => {\n",
              "    // Cache the last promise value to make it available to the next\n",
              "    // step of the generator.\n",
              "    outputElement.lastPromiseValue = value;\n",
              "    return next.value.response;\n",
              "  });\n",
              "}\n",
              "\n",
              "/**\n",
              " * Generator function which is called between each async step of the upload\n",
              " * process.\n",
              " * @param {string} inputId Element ID of the input file picker element.\n",
              " * @param {string} outputId Element ID of the output display.\n",
              " * @return {!Iterable<!Object>} Iterable of next steps.\n",
              " */\n",
              "function* uploadFilesStep(inputId, outputId) {\n",
              "  const inputElement = document.getElementById(inputId);\n",
              "  inputElement.disabled = false;\n",
              "\n",
              "  const outputElement = document.getElementById(outputId);\n",
              "  outputElement.innerHTML = '';\n",
              "\n",
              "  const pickedPromise = new Promise((resolve) => {\n",
              "    inputElement.addEventListener('change', (e) => {\n",
              "      resolve(e.target.files);\n",
              "    });\n",
              "  });\n",
              "\n",
              "  const cancel = document.createElement('button');\n",
              "  inputElement.parentElement.appendChild(cancel);\n",
              "  cancel.textContent = 'Cancel upload';\n",
              "  const cancelPromise = new Promise((resolve) => {\n",
              "    cancel.onclick = () => {\n",
              "      resolve(null);\n",
              "    };\n",
              "  });\n",
              "\n",
              "  // Wait for the user to pick the files.\n",
              "  const files = yield {\n",
              "    promise: Promise.race([pickedPromise, cancelPromise]),\n",
              "    response: {\n",
              "      action: 'starting',\n",
              "    }\n",
              "  };\n",
              "\n",
              "  cancel.remove();\n",
              "\n",
              "  // Disable the input element since further picks are not allowed.\n",
              "  inputElement.disabled = true;\n",
              "\n",
              "  if (!files) {\n",
              "    return {\n",
              "      response: {\n",
              "        action: 'complete',\n",
              "      }\n",
              "    };\n",
              "  }\n",
              "\n",
              "  for (const file of files) {\n",
              "    const li = document.createElement('li');\n",
              "    li.append(span(file.name, {fontWeight: 'bold'}));\n",
              "    li.append(span(\n",
              "        `(${file.type || 'n/a'}) - ${file.size} bytes, ` +\n",
              "        `last modified: ${\n",
              "            file.lastModifiedDate ? file.lastModifiedDate.toLocaleDateString() :\n",
              "                                    'n/a'} - `));\n",
              "    const percent = span('0% done');\n",
              "    li.appendChild(percent);\n",
              "\n",
              "    outputElement.appendChild(li);\n",
              "\n",
              "    const fileDataPromise = new Promise((resolve) => {\n",
              "      const reader = new FileReader();\n",
              "      reader.onload = (e) => {\n",
              "        resolve(e.target.result);\n",
              "      };\n",
              "      reader.readAsArrayBuffer(file);\n",
              "    });\n",
              "    // Wait for the data to be ready.\n",
              "    let fileData = yield {\n",
              "      promise: fileDataPromise,\n",
              "      response: {\n",
              "        action: 'continue',\n",
              "      }\n",
              "    };\n",
              "\n",
              "    // Use a chunked sending to avoid message size limits. See b/62115660.\n",
              "    let position = 0;\n",
              "    do {\n",
              "      const length = Math.min(fileData.byteLength - position, MAX_PAYLOAD_SIZE);\n",
              "      const chunk = new Uint8Array(fileData, position, length);\n",
              "      position += length;\n",
              "\n",
              "      const base64 = btoa(String.fromCharCode.apply(null, chunk));\n",
              "      yield {\n",
              "        response: {\n",
              "          action: 'append',\n",
              "          file: file.name,\n",
              "          data: base64,\n",
              "        },\n",
              "      };\n",
              "\n",
              "      let percentDone = fileData.byteLength === 0 ?\n",
              "          100 :\n",
              "          Math.round((position / fileData.byteLength) * 100);\n",
              "      percent.textContent = `${percentDone}% done`;\n",
              "\n",
              "    } while (position < fileData.byteLength);\n",
              "  }\n",
              "\n",
              "  // All done.\n",
              "  yield {\n",
              "    response: {\n",
              "      action: 'complete',\n",
              "    }\n",
              "  };\n",
              "}\n",
              "\n",
              "scope.google = scope.google || {};\n",
              "scope.google.colab = scope.google.colab || {};\n",
              "scope.google.colab._files = {\n",
              "  _uploadFiles,\n",
              "  _uploadFilesContinue,\n",
              "};\n",
              "})(self);\n",
              "</script> "
            ]
          },
          "metadata": {}
        },
        {
          "output_type": "stream",
          "name": "stdout",
          "text": [
            "Saving sample.txt to sample.txt\n"
          ]
        }
      ]
    },
    {
      "cell_type": "markdown",
      "id": "264e9ce6",
      "metadata": {
        "id": "264e9ce6"
      },
      "source": [
        "2. Now run this whole section below (no need to look into code). It will run the ezdramaparser on your file and output the resulting xml with proper DraCor encoding and indentation."
      ]
    },
    {
      "cell_type": "markdown",
      "source": [
        "# ▶️ Run this whole section"
      ],
      "metadata": {
        "id": "X3fO8dg5Na3y"
      },
      "id": "X3fO8dg5Na3y"
    },
    {
      "cell_type": "markdown",
      "source": [
        "## imports"
      ],
      "metadata": {
        "id": "Jx6EeOUOLKLu"
      },
      "id": "Jx6EeOUOLKLu"
    },
    {
      "cell_type": "code",
      "execution_count": 2,
      "id": "90b424b2",
      "metadata": {
        "id": "90b424b2"
      },
      "outputs": [],
      "source": [
        "import os\n",
        "import sys\n",
        "import re\n",
        "from datetime import datetime"
      ]
    },
    {
      "cell_type": "code",
      "source": [
        "from bs4 import BeautifulSoup, Tag\n"
      ],
      "metadata": {
        "id": "VxHuwRgkJ3jM"
      },
      "id": "VxHuwRgkJ3jM",
      "execution_count": 3,
      "outputs": []
    },
    {
      "cell_type": "code",
      "execution_count": 4,
      "id": "5c6fbf56",
      "metadata": {
        "id": "5c6fbf56",
        "colab": {
          "base_uri": "https://localhost:8080/"
        },
        "outputId": "28f5383b-422d-47d1-c376-ebdd39054467"
      },
      "outputs": [
        {
          "output_type": "stream",
          "name": "stdout",
          "text": [
            "Collecting wget\n",
            "  Downloading wget-3.2.zip (10 kB)\n",
            "  Preparing metadata (setup.py) ... \u001b[?25l\u001b[?25hdone\n",
            "Building wheels for collected packages: wget\n",
            "  Building wheel for wget (setup.py) ... \u001b[?25l\u001b[?25hdone\n",
            "  Created wheel for wget: filename=wget-3.2-py3-none-any.whl size=9655 sha256=3261a61bc4e22ee2f63c79e166db180b3a042dd2bebeeb578b07c7e4df3c413f\n",
            "  Stored in directory: /root/.cache/pip/wheels/8b/f1/7f/5c94f0a7a505ca1c81cd1d9208ae2064675d97582078e6c769\n",
            "Successfully built wget\n",
            "Installing collected packages: wget\n",
            "Successfully installed wget-3.2\n"
          ]
        }
      ],
      "source": [
        "!pip install wget\n",
        "import wget"
      ]
    },
    {
      "cell_type": "code",
      "source": [
        "!pip install transliterate\n",
        "from transliterate import translit"
      ],
      "metadata": {
        "colab": {
          "base_uri": "https://localhost:8080/"
        },
        "id": "tc_gmhE1OC6f",
        "outputId": "68d5aa8c-9498-4d54-e2c6-03b4a99e84b7"
      },
      "id": "tc_gmhE1OC6f",
      "execution_count": 5,
      "outputs": [
        {
          "output_type": "stream",
          "name": "stdout",
          "text": [
            "Collecting transliterate\n",
            "  Downloading transliterate-1.10.2-py2.py3-none-any.whl (45 kB)\n",
            "\u001b[?25l     \u001b[90m━━━━━━━━━━━━━━━━━━━━━━━━━━━━━━━━━━━━━━━━\u001b[0m \u001b[32m0.0/45.8 kB\u001b[0m \u001b[31m?\u001b[0m eta \u001b[36m-:--:--\u001b[0m\r\u001b[2K     \u001b[90m━━━━━━━━━━━━━━━━━━━━━━━━━━━━━━━━━━━━━━━━\u001b[0m \u001b[32m45.8/45.8 kB\u001b[0m \u001b[31m1.1 MB/s\u001b[0m eta \u001b[36m0:00:00\u001b[0m\n",
            "\u001b[?25hRequirement already satisfied: six>=1.1.0 in /usr/local/lib/python3.10/dist-packages (from transliterate) (1.16.0)\n",
            "Installing collected packages: transliterate\n",
            "Successfully installed transliterate-1.10.2\n"
          ]
        }
      ]
    },
    {
      "cell_type": "markdown",
      "source": [
        "## functions"
      ],
      "metadata": {
        "id": "S2eVyWIhLMLA"
      },
      "id": "S2eVyWIhLMLA"
    },
    {
      "cell_type": "code",
      "execution_count": 6,
      "id": "8adcdd27",
      "metadata": {
        "id": "8adcdd27"
      },
      "outputs": [],
      "source": [
        "def parse_file(fpath):\n",
        "    path_to_file = fpath\n",
        "    with open(path_to_file) as openfile:\n",
        "        file_lines = openfile.readlines()\n",
        "    soup = parse_lines(file_lines)\n",
        "    augmented_soup = post_process(soup)\n",
        "    tree_to_write = str(soup).replace('\\n', '')\n",
        "    tree_to_write = add_spaces_inline_stages(tree_to_write) #\n",
        "    with open(re.sub(r'\\.(txt|md)', r'_unindented.xml',fpath), 'w') as outfile:\n",
        "        outfile.write(tree_to_write)"
      ]
    },
    {
      "cell_type": "code",
      "execution_count": 7,
      "id": "abbfa0ca",
      "metadata": {
        "id": "abbfa0ca"
      },
      "outputs": [],
      "source": [
        "def add_spaces_inline_stages(tree_as_string):\n",
        "    tree_as_string = re.sub(r'</stage>([^\\s])', r'</stage> \\1', tree_as_string)\n",
        "    tree_as_string = re.sub(r'([^\\s])<stage>', r'\\1 <stage>', tree_as_string)\n",
        "    return tree_as_string"
      ]
    },
    {
      "cell_type": "code",
      "execution_count": 8,
      "id": "4cbfc1ad",
      "metadata": {
        "id": "4cbfc1ad"
      },
      "outputs": [],
      "source": [
        "def add_pbstmt(filedesc):\n",
        "    pubstmt_as_string = \"\"\"\n",
        "      <publicationStmt>\n",
        "        <publisher xml:id=\"dracor\">DraCor</publisher>\n",
        "        <idno type=\"URL\">https://dracor.org</idno>\n",
        "        <availability>\n",
        "          <licence>\n",
        "            <ab>CC0 1.0</ab>\n",
        "            <ref target=\"https://creativecommons.org/publicdomain/zero/1.0/\">Licence</ref>\n",
        "          </licence>\n",
        "        </availability>\n",
        "      </publicationStmt>\n",
        "    \"\"\"\n",
        "    pbsoup = BeautifulSoup(pubstmt_as_string, 'xml')\n",
        "    pbstmt = pbsoup.publicationStmt\n",
        "    filedesc.append(pbstmt)"
      ]
    },
    {
      "cell_type": "code",
      "execution_count": 9,
      "id": "440466a0",
      "metadata": {
        "id": "440466a0"
      },
      "outputs": [],
      "source": [
        "def add_sourcedesc(filedesc):\n",
        "    sourcedesc_as_string = \"\"\"\n",
        "      <sourceDesc>\n",
        "        <bibl type=\"digitalSource\">\n",
        "          <name>ENTER SOURCE NAME HERE</name>\n",
        "          <idno type=\"URL\">ENTER SOURCE URL HERE</idno>\n",
        "          <availability status=\"free\">\n",
        "            <p>In the public domain.</p>\n",
        "          </availability>\n",
        "        </bibl>\n",
        "      </sourceDesc>\n",
        "    \"\"\"\n",
        "    sdsoup = BeautifulSoup(sourcedesc_as_string, 'xml')\n",
        "    sd = sdsoup.sourceDesc\n",
        "    filedesc.append(sd)"
      ]
    },
    {
      "cell_type": "code",
      "execution_count": 10,
      "id": "c2f55925",
      "metadata": {
        "id": "c2f55925"
      },
      "outputs": [],
      "source": [
        "def add_rev_desc(header):\n",
        "    revdesc_as_string = f\"\"\"\n",
        "    <revisionDesc>\n",
        "         <listChange>\n",
        "        <change when=\"{datetime.today().strftime('%Y-%m-%d')}\">DESCRIBE CHANGE</change>\n",
        "        </listChange>\n",
        "    </revisionDesc>\"\"\"\n",
        "    rdsoup = BeautifulSoup(revdesc_as_string, 'xml')\n",
        "    rd = rdsoup.revisionDesc\n",
        "    header.append(rd)"
      ]
    },
    {
      "cell_type": "code",
      "execution_count": 11,
      "id": "6e96490c",
      "metadata": {
        "id": "6e96490c"
      },
      "outputs": [],
      "source": [
        "def create_header():\n",
        "    header = Tag(name='teiHeader')\n",
        "    fdesc = Tag(name='fileDesc')\n",
        "    titlestmt = Tag(name='titleStmt')\n",
        "    fdesc.append(titlestmt)\n",
        "    add_pbstmt(fdesc)\n",
        "    add_sourcedesc(fdesc)\n",
        "    header.append(fdesc)\n",
        "    return(header)"
      ]
    },
    {
      "cell_type": "code",
      "execution_count": 12,
      "id": "6469cbef",
      "metadata": {
        "id": "6469cbef"
      },
      "outputs": [],
      "source": [
        "def get_div_level(line):\n",
        "    div_level = 1 # since we already located one # and since 0 is <body> level in this model\n",
        "    for char in line:\n",
        "        if char == '#':\n",
        "            div_level+=1\n",
        "        else:\n",
        "            break\n",
        "    return(div_level)"
      ]
    },
    {
      "cell_type": "code",
      "execution_count": 13,
      "id": "8574f445",
      "metadata": {
        "id": "8574f445"
      },
      "outputs": [],
      "source": [
        "def handle_line_with_markup(first_character, rest_of_line, current_lowest_tag, current_lowest_div):\n",
        "    ''' handles linke with specific ezdrama markup symbol at the start\n",
        "    returns new current_lowest_tag which is to be appended further'''\n",
        "    if first_character == '$':\n",
        "        new_stage = Tag(name='stage')\n",
        "        new_stage.append(rest_of_line.strip())\n",
        "        current_lowest_div.append(new_stage)\n",
        "        current_lowest_tag = new_stage # при отключениии stage перестает быть мультистрочным и поедать все немаркированные строки после себя\n",
        "    elif first_character == '(':\n",
        "        new_stage = Tag(name='stage')\n",
        "        new_stage.append(first_character)\n",
        "        new_stage.append(rest_of_line.strip())\n",
        "        current_lowest_div.append(new_stage)\n",
        "    elif first_character == '@':\n",
        "        new_sp = Tag(name='sp')\n",
        "        new_sp.append(rest_of_line)\n",
        "        current_lowest_div.append(new_sp)\n",
        "        current_lowest_tag = new_sp\n",
        "    elif first_character == '^':\n",
        "        new_cl = Tag(name='castList')\n",
        "        new_cl.append(rest_of_line)\n",
        "        current_lowest_div.append(new_cl)\n",
        "        current_lowest_tag = new_cl\n",
        "    elif first_character == '#':\n",
        "        new_div = Tag(name='div')\n",
        "        head = Tag(name='head')\n",
        "        head.append(rest_of_line.strip('#'))\n",
        "        new_div['level'] = get_div_level(rest_of_line)\n",
        "        new_div.append(head)\n",
        "        if new_div['level'] > current_lowest_div['level']:\n",
        "            current_lowest_div.append(new_div)\n",
        "        elif new_div['level'] == current_lowest_div['level']:\n",
        "            current_lowest_div.parent.append(new_div)\n",
        "        else:\n",
        "            current_lowest_div.parent.parent.append(new_div)\n",
        "        current_lowest_div = new_div\n",
        "        current_lowest_tag = new_div\n",
        "    return(current_lowest_tag, current_lowest_div)"
      ]
    },
    {
      "cell_type": "code",
      "execution_count": 14,
      "id": "f9714d77",
      "metadata": {
        "id": "f9714d77"
      },
      "outputs": [],
      "source": [
        "def add_author_to_header(header, line):\n",
        "    fdesc = header.find('titleStmt')\n",
        "    author = Tag(name='author')\n",
        "    author.append(line[7:])\n",
        "    fdesc.append(author)"
      ]
    },
    {
      "cell_type": "code",
      "execution_count": 15,
      "id": "b5a7e23a",
      "metadata": {
        "id": "b5a7e23a"
      },
      "outputs": [],
      "source": [
        "def add_title_to_header(header, line):\n",
        "    titlest = header.find('titleStmt')\n",
        "    title = Tag(name='title')\n",
        "    title['type'] = 'main'\n",
        "    title.append(line[7:])\n",
        "    titlest.append(title)"
      ]
    },
    {
      "cell_type": "code",
      "execution_count": 16,
      "id": "93ccc439",
      "metadata": {
        "id": "93ccc439"
      },
      "outputs": [],
      "source": [
        "def add_subtitle_to_header(header, line):\n",
        "    titlest = header.find('titleStmt')\n",
        "    title = Tag(name='title')\n",
        "    title['type'] = 'sub'\n",
        "    title.append(line[10:])\n",
        "    titlest.append(title)"
      ]
    },
    {
      "cell_type": "code",
      "execution_count": 17,
      "id": "96699178",
      "metadata": {
        "id": "96699178"
      },
      "outputs": [],
      "source": [
        "def add_standoff(tei):\n",
        "    today = datetime.today().strftime('%Y')\n",
        "    standoff_as_string = f'''\n",
        "    <standOff>\n",
        "        <listEvent>\n",
        "        <event type=\"print\" when=\"{today}\">\n",
        "        <desc/>\n",
        "        </event>\n",
        "        <event type=\"premiere\" when=\"{today}\">\n",
        "        <desc/>\n",
        "        </event>\n",
        "        <event type=\"written\" when=\"{today}\">\n",
        "        <desc/>\n",
        "        </event>\n",
        "        </listEvent>\n",
        "        <listRelation>\n",
        "        <relation name=\"wikidata\" active=\"INSERT\" passive=\"INSERT\"/>\n",
        "        </listRelation>\n",
        "    </standOff>\n",
        "    '''\n",
        "    standoffsoup = BeautifulSoup(standoff_as_string, 'xml')\n",
        "    standoff = standoffsoup.standOff\n",
        "    tei.append(standoff)"
      ]
    },
    {
      "cell_type": "code",
      "execution_count": 18,
      "id": "f1d04c3e",
      "metadata": {
        "id": "f1d04c3e"
      },
      "outputs": [],
      "source": [
        "def parse_lines(file_lines):\n",
        "    '''This function parses lines of a file\n",
        "    in ezdrama format and\n",
        "    produces an output XML tree\n",
        "    at this stage we only identify:\n",
        "    -- basic <div> structure\n",
        "    -- external (not-inside-the-sp) <stage> directions\n",
        "    -- <sp>-s without internal markup\n",
        "    '''\n",
        "    special_symb_list = '@$^#('\n",
        "    root = Tag(name='TEI')\n",
        "    header = create_header()\n",
        "    root.append(header)\n",
        "    add_standoff(root)\n",
        "    text = Tag(name='text')\n",
        "    body = Tag(name='body')\n",
        "    text.append(body)\n",
        "    root.append(text)\n",
        "\n",
        "    current_lowest_tag = body\n",
        "    current_lowest_div = body\n",
        "    current_lowest_div['level'] = 0\n",
        "\n",
        "    for line in file_lines:\n",
        "        if line.startswith('@author'):\n",
        "            add_author_to_header(header, line.strip())\n",
        "        elif line.startswith('@title'):\n",
        "            add_title_to_header(header, line.strip())\n",
        "        elif line.startswith('@subtitle'):\n",
        "            add_subtitle_to_header(header, line.strip())\n",
        "        else:\n",
        "            first_character = line[:1] # отрезаем первый спецсимвол, берем его\n",
        "            rest_of_line = line[1:] # отрезаем первый спецсимвол, берем остаток\n",
        "            if first_character in special_symb_list:\n",
        "                current_lowest_tag, current_lowest_div = handle_line_with_markup(first_character,\n",
        "                                                                 rest_of_line,\n",
        "                                                                 current_lowest_tag,\n",
        "                                                                 current_lowest_div)\n",
        "            else:\n",
        "                current_lowest_tag.append(line)\n",
        "    return(root)"
      ]
    },
    {
      "cell_type": "code",
      "execution_count": 19,
      "id": "8133b238",
      "metadata": {
        "id": "8133b238"
      },
      "outputs": [],
      "source": [
        "def check_prose(first_line_of_speech):\n",
        "    #print(first_line_of_speech)\n",
        "    if first_line_of_speech.startswith('~'):\n",
        "        return False\n",
        "    return True"
      ]
    },
    {
      "cell_type": "code",
      "execution_count": 20,
      "id": "85b17a03",
      "metadata": {
        "id": "85b17a03"
      },
      "outputs": [],
      "source": [
        "def clean_after_translit(line):\n",
        "    line = line.replace('і', 'i')\n",
        "    line = line.replace('ї', 'i')\n",
        "    line = line.replace('і', 'i')\n",
        "    line = line.replace('є', 'e')\n",
        "    line = line.replace(\"'\", \"\")\n",
        "    line = line.replace(\"’\", \"\")\n",
        "    line = line.replace(\"«\", \"\")\n",
        "    line = line.replace(\"»\", \"\")\n",
        "    line = line.replace(\"′\", \"\")\n",
        "    line = line.replace(\" \", \"_\")\n",
        "    return line"
      ]
    },
    {
      "cell_type": "code",
      "execution_count": 21,
      "id": "5defe38e",
      "metadata": {
        "id": "5defe38e"
      },
      "outputs": [],
      "source": [
        "def add_cast_items(soup):\n",
        "    castList = soup.find('castList')\n",
        "    casttext = castList.text\n",
        "    castList.clear()\n",
        "    cast_lines = casttext.split('\\n')\n",
        "    # first line is head\n",
        "    castHead = Tag(name='head')\n",
        "    castHead.append(cast_lines[0])\n",
        "    castList.append(castHead)\n",
        "    # next lines -- castItems\n",
        "    for line in cast_lines[1:]:\n",
        "        castItem = Tag(name='castItem')\n",
        "        castItem.append(line)\n",
        "        castList.append(castItem)"
      ]
    },
    {
      "cell_type": "code",
      "execution_count": 22,
      "id": "5bc46015",
      "metadata": {
        "id": "5bc46015"
      },
      "outputs": [],
      "source": [
        "def post_process_sp(sp):\n",
        "    text_of_sp = sp.text\n",
        "    sp.clear()\n",
        "\n",
        "    text_split_in_lines = text_of_sp.split('\\n')\n",
        "    first_line = text_split_in_lines[0]\n",
        "    speaker = Tag(name='speaker')\n",
        "    sp.append(speaker)\n",
        "    check_stage = re.search('([^()]+)(\\(.+?\\))([.,:!;])?', first_line)\n",
        "    if check_stage:\n",
        "        speaker.append(check_stage.group(1).strip())\n",
        "        inside_stage = Tag(name='stage')\n",
        "        inside_stage.append(check_stage.group(2).strip())\n",
        "        sp.append(inside_stage)\n",
        "\n",
        "        ending_punct = check_stage.group(3)\n",
        "        if ending_punct is not None:\n",
        "            speaker.append(ending_punct)\n",
        "    else:\n",
        "        speaker.append(first_line.strip())\n",
        "\n",
        "\n",
        "    prose = check_prose(text_split_in_lines[1])\n",
        "    if prose:\n",
        "        speechtext = Tag(name='p')\n",
        "    else:\n",
        "        speechtext = Tag(name='lg')\n",
        "        text_split_in_lines[1] = text_split_in_lines[1].strip('~')\n",
        "    for line in text_split_in_lines[1:]:\n",
        "        if line.startswith('%'):\n",
        "            inlinestage = Tag(name='stage')\n",
        "            inlinestage.append(line.strip('%'))\n",
        "            speechtext.append(inlinestage)\n",
        "        elif len(line) > 0:\n",
        "            switch_to_poetry = not check_prose(line)\n",
        "            check_inline_brackes  = re.findall('([^()]*)(\\(.+?\\)[.,:!;]?)([^()]*)', line)\n",
        "            if check_inline_brackes:\n",
        "                for triplet in check_inline_brackes:\n",
        "                    if len(triplet[0]) > 0:\n",
        "                        if not prose:\n",
        "                            poetic_line = Tag(name='l')\n",
        "                            poetic_line.append(triplet[0].strip('~'))\n",
        "                            speechtext.append(poetic_line)\n",
        "                        else:\n",
        "                            speechtext.append(triplet[0])\n",
        "                    inside_stage = Tag(name='stage')\n",
        "                    inside_stage.append(triplet[1].strip())\n",
        "                    speechtext.append(inside_stage)\n",
        "                    if len(triplet[2]) > 0:\n",
        "                        if not prose:\n",
        "                            poetic_line = Tag(name='l')\n",
        "                            poetic_line.append(triplet[2])\n",
        "                            speechtext.append(poetic_line)\n",
        "                        else:\n",
        "                            speechtext.append(triplet[2])\n",
        "            #elif line.startswith('i$'):\n",
        "\n",
        "            else:\n",
        "                if switch_to_poetry:\n",
        "                    sp.append(speechtext)\n",
        "                    speechtext = Tag(name='lg')\n",
        "                    poetic_line = Tag(name='l')\n",
        "                    poetic_line.append(line.strip('~'))\n",
        "                    speechtext.append(poetic_line)\n",
        "                    prose = False\n",
        "                elif prose:\n",
        "                    speechtext.append(line)\n",
        "                else:\n",
        "                    poetic_line = Tag(name='l')\n",
        "                    poetic_line.append(line)\n",
        "                    speechtext.append(poetic_line)\n",
        "\n",
        "\n",
        "    sp.append(speechtext)\n",
        "\n",
        "    if re.search('[йцукенгшщзхъфывапролджэячсмитью]', speaker.text.lower()):\n",
        "        clean_who = clean_after_translit(translit(speaker.text.strip('.,:!; '), 'ru')).lower()\n",
        "    else:\n",
        "        clean_who = speaker.text.strip('.,:!; ').lower()\n",
        "    sp['who'] = f'#{clean_who}'"
      ]
    },
    {
      "cell_type": "code",
      "execution_count": 23,
      "id": "e9611da9",
      "metadata": {
        "id": "e9611da9"
      },
      "outputs": [],
      "source": [
        "def post_process(soup):\n",
        "    set_of_char_pairs = set() # множество пар ID + строка\n",
        "    add_cast_items(soup)\n",
        "    del(soup.find('body')['level'])\n",
        "    for sp in soup.find_all('sp'):\n",
        "        post_process_sp(sp)\n",
        "        if 'who' in sp.attrs:\n",
        "            #print[sp\n",
        "            #try:\n",
        "            set_of_char_pairs.add((sp['who'], sp.speaker.text.strip('. '))) #\n",
        "            #except:\n",
        "            #    pass\n",
        "    for div in soup.find_all('div'):\n",
        "        if div['level'] == 0:\n",
        "            div.attrs = {}\n",
        "        elif div['level'] == 1:\n",
        "            div.attrs = {}\n",
        "            div['type'] = 'act'\n",
        "        elif div['level'] == 2:\n",
        "            div.attrs = {}\n",
        "            div['type'] = 'scene'\n",
        "    add_particdesc_to_header(soup, set_of_char_pairs)\n",
        "    add_rev_desc(soup.teiHeader)\n",
        "\n",
        "    soup['xmlns'] = \"http://www.tei-c.org/ns/1.0\"\n",
        "\n",
        "    return(soup)"
      ]
    },
    {
      "cell_type": "code",
      "execution_count": 24,
      "id": "f8213fda",
      "metadata": {
        "id": "f8213fda"
      },
      "outputs": [],
      "source": [
        "def add_particdesc_to_header(soup, set_of_char_pairs):\n",
        "    #print(set_of_char_pairs)\n",
        "    profileDesc = Tag(name = 'profileDesc')\n",
        "    particDesc = Tag(name = 'particDesc')\n",
        "    profileDesc.append(particDesc)\n",
        "    listPerson = Tag(name = 'listPerson')\n",
        "    particDesc.append(listPerson)\n",
        "    for pair in set_of_char_pairs:\n",
        "        person = Tag(name = 'person')\n",
        "        person['xml:id'] = pair[0].strip('#')\n",
        "        persName = Tag(name = 'persName')\n",
        "        person.append(persName)\n",
        "        #print(pair[1])\n",
        "        persName.append(pair[1])\n",
        "        listPerson.append(person)\n",
        "    teiHeader = soup.find('teiHeader')\n",
        "    teiHeader.append(profileDesc)"
      ]
    },
    {
      "cell_type": "markdown",
      "source": [
        "## processing the file"
      ],
      "metadata": {
        "id": "DhCzlq1uLO2K"
      },
      "id": "DhCzlq1uLO2K"
    },
    {
      "cell_type": "code",
      "source": [
        "filename = list(uploaded.keys())[0]"
      ],
      "metadata": {
        "id": "yG2Tzh6QKz21"
      },
      "id": "yG2Tzh6QKz21",
      "execution_count": 25,
      "outputs": []
    },
    {
      "cell_type": "code",
      "execution_count": 26,
      "id": "6bab60b6",
      "metadata": {
        "id": "6bab60b6"
      },
      "outputs": [],
      "source": [
        "parse_file(filename)"
      ]
    },
    {
      "cell_type": "markdown",
      "id": "bf1bbe89",
      "metadata": {
        "id": "bf1bbe89"
      },
      "source": [
        "## adding indentation"
      ]
    },
    {
      "cell_type": "markdown",
      "id": "6710ca3a",
      "metadata": {
        "id": "6710ca3a"
      },
      "source": [
        "take the DraCor indentation scheme from Github"
      ]
    },
    {
      "cell_type": "code",
      "execution_count": 27,
      "id": "efffe6a6",
      "metadata": {
        "id": "efffe6a6"
      },
      "outputs": [],
      "source": [
        "if not os.path.exists('format.conf'):\n",
        "    wget.download('https://raw.githubusercontent.com/dracor-org/ezdrama/main/format.conf')"
      ]
    },
    {
      "cell_type": "markdown",
      "id": "b962e99f",
      "metadata": {
        "id": "b962e99f"
      },
      "source": [
        "#### indent with xml formatter\n",
        "\n",
        "Preparation:\n",
        "\n",
        "* If running locally, install the formatter on your machine:http://www.kitebird.com/software/xmlformat/\n",
        "\n",
        "* Elif running in Colab, run the following lines:"
      ]
    },
    {
      "cell_type": "code",
      "execution_count": 28,
      "id": "072f2783",
      "metadata": {
        "id": "072f2783"
      },
      "outputs": [],
      "source": [
        "if not os.path.exists('xmlformat.pl'):\n",
        "    wget.download('https://raw.githubusercontent.com/dracor-org/ezdrama/main/xmlformat.pl')"
      ]
    },
    {
      "cell_type": "code",
      "execution_count": 29,
      "id": "a96f2514",
      "metadata": {
        "id": "a96f2514"
      },
      "outputs": [],
      "source": [
        " !cp xmlformat.pl /usr/local/bin/xmlformat"
      ]
    },
    {
      "cell_type": "code",
      "execution_count": 30,
      "id": "7a968b02",
      "metadata": {
        "id": "7a968b02"
      },
      "outputs": [],
      "source": [
        "!chmod 755 -R /usr/local/bin/xmlformat"
      ]
    },
    {
      "cell_type": "markdown",
      "id": "7217f65f",
      "metadata": {
        "id": "7217f65f"
      },
      "source": [
        "actual indenting"
      ]
    },
    {
      "cell_type": "code",
      "execution_count": 31,
      "id": "389f48f0",
      "metadata": {
        "id": "389f48f0"
      },
      "outputs": [],
      "source": [
        "unindentedxml = filename.replace('.txt', '_unindented.xml')"
      ]
    },
    {
      "cell_type": "code",
      "source": [
        "indentedxml = unindentedxml.replace('_unindented.xml','.xml')"
      ],
      "metadata": {
        "id": "PObFFmXPMgL3"
      },
      "id": "PObFFmXPMgL3",
      "execution_count": 32,
      "outputs": []
    },
    {
      "cell_type": "code",
      "execution_count": 33,
      "id": "7a9d4e08",
      "metadata": {
        "id": "7a9d4e08",
        "colab": {
          "base_uri": "https://localhost:8080/"
        },
        "outputId": "b4fb48ec-3a0c-48e2-b73c-f2c615ce90c2"
      },
      "outputs": [
        {
          "output_type": "execute_result",
          "data": {
            "text/plain": [
              "0"
            ]
          },
          "metadata": {},
          "execution_count": 33
        }
      ],
      "source": [
        "os.system(f'xmlformat --config-file=format.conf \\\"{unindentedxml}\\\" > \\\"{indentedxml}\\\" ')"
      ]
    },
    {
      "cell_type": "code",
      "execution_count": 34,
      "id": "e0fdbfa9",
      "metadata": {
        "id": "e0fdbfa9",
        "colab": {
          "base_uri": "https://localhost:8080/"
        },
        "outputId": "c36ccb15-bc3e-4dd8-be42-24f5fbbbe307"
      },
      "outputs": [
        {
          "output_type": "execute_result",
          "data": {
            "text/plain": [
              "0"
            ]
          },
          "metadata": {},
          "execution_count": 34
        }
      ],
      "source": [
        "os.system(f'rm {unindentedxml}')"
      ]
    },
    {
      "cell_type": "markdown",
      "source": [
        "## Download"
      ],
      "metadata": {
        "id": "zBD066Z6MZ4f"
      },
      "id": "zBD066Z6MZ4f"
    },
    {
      "cell_type": "code",
      "source": [
        "files.download(indentedxml)"
      ],
      "metadata": {
        "colab": {
          "base_uri": "https://localhost:8080/",
          "height": 0
        },
        "id": "nCaxOPnmL-t9",
        "outputId": "2b4cbd05-2057-4b0e-8cd3-212d6e65552f"
      },
      "id": "nCaxOPnmL-t9",
      "execution_count": 35,
      "outputs": [
        {
          "output_type": "display_data",
          "data": {
            "text/plain": [
              "<IPython.core.display.Javascript object>"
            ],
            "application/javascript": [
              "\n",
              "    async function download(id, filename, size) {\n",
              "      if (!google.colab.kernel.accessAllowed) {\n",
              "        return;\n",
              "      }\n",
              "      const div = document.createElement('div');\n",
              "      const label = document.createElement('label');\n",
              "      label.textContent = `Downloading \"${filename}\": `;\n",
              "      div.appendChild(label);\n",
              "      const progress = document.createElement('progress');\n",
              "      progress.max = size;\n",
              "      div.appendChild(progress);\n",
              "      document.body.appendChild(div);\n",
              "\n",
              "      const buffers = [];\n",
              "      let downloaded = 0;\n",
              "\n",
              "      const channel = await google.colab.kernel.comms.open(id);\n",
              "      // Send a message to notify the kernel that we're ready.\n",
              "      channel.send({})\n",
              "\n",
              "      for await (const message of channel.messages) {\n",
              "        // Send a message to notify the kernel that we're ready.\n",
              "        channel.send({})\n",
              "        if (message.buffers) {\n",
              "          for (const buffer of message.buffers) {\n",
              "            buffers.push(buffer);\n",
              "            downloaded += buffer.byteLength;\n",
              "            progress.value = downloaded;\n",
              "          }\n",
              "        }\n",
              "      }\n",
              "      const blob = new Blob(buffers, {type: 'application/binary'});\n",
              "      const a = document.createElement('a');\n",
              "      a.href = window.URL.createObjectURL(blob);\n",
              "      a.download = filename;\n",
              "      div.appendChild(a);\n",
              "      a.click();\n",
              "      div.remove();\n",
              "    }\n",
              "  "
            ]
          },
          "metadata": {}
        },
        {
          "output_type": "display_data",
          "data": {
            "text/plain": [
              "<IPython.core.display.Javascript object>"
            ],
            "application/javascript": [
              "download(\"download_6ded5e6c-5554-4086-bdaa-c87f4b04ff21\", \"sample.xml\", 2982)"
            ]
          },
          "metadata": {}
        }
      ]
    },
    {
      "cell_type": "code",
      "source": [],
      "metadata": {
        "id": "o_UOLLwZOOoX"
      },
      "id": "o_UOLLwZOOoX",
      "execution_count": 35,
      "outputs": []
    }
  ],
  "metadata": {
    "kernelspec": {
      "display_name": "Python 3 (ipykernel)",
      "language": "python",
      "name": "python3"
    },
    "language_info": {
      "codemirror_mode": {
        "name": "ipython",
        "version": 3
      },
      "file_extension": ".py",
      "mimetype": "text/x-python",
      "name": "python",
      "nbconvert_exporter": "python",
      "pygments_lexer": "ipython3",
      "version": "3.9.13"
    },
    "colab": {
      "provenance": [],
      "include_colab_link": true
    }
  },
  "nbformat": 4,
  "nbformat_minor": 5
}